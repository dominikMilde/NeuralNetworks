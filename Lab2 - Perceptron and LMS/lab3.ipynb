{
  "cells": [
    {
      "cell_type": "markdown",
      "metadata": {
        "id": "SVu3pVhT9U9z"
      },
      "source": [
        "# Exercise 3: Perceptron\n",
        "\n",
        "## 3.1 Perceptron for data classification\n",
        "\n",
        "In order to demonstrate the main concepts behind the perceptron, we have to define input and output data. We will use $N$ two-dimensional vectors $\\mathbf{a}_i$ as input data organized in a $2\\times N$ matrix $\\mathbf{A}$ (two rows and $N$ columns).\n",
        "\n",
        "$\\mathbf{A}=\\begin{bmatrix}\n",
        "    a_{x_1} & a_{x_2} & \\dots & a_{x_N}\\\\\n",
        "    a_{y_1} & a_{y_2} & \\dots & a_{y_N}\n",
        "\\end{bmatrix}$\n",
        "\n",
        "Here, $N$ is the number of vectors and $a_{x_i}$, $a_{y_i}$ are the $x$ and $y$ coordinates of $i$-th vector. In this example we will demonstrate how to classify vectors in two classes. In this case, each vector can belong to only one of two possible classes, for example $C_0$ and $C_1$. Classes of each examples are defined using a matrix \\mathbf{C}, whose dimensions are $1\\times N$ defined as follows:\n",
        "\n",
        "$\\mathbf{C}=\\left[c_1, c_2, \\dots, c_N\\right]$\n",
        "\n",
        "Each element $c_i$ has value $0$ if vector $\\mathbf{a}_i$ belongs to class $C_0$ and has value $1$ if vector belongs to class $C_1$.\n",
        "\n",
        "### 3.1.1 Classification of linearly separable examples in 2D space\n",
        "\n",
        "In this experiment we will show how to use the perceptron in order to classify a vector in two linearly separable classes. We will use the following vectors as input vectors:"
      ]
    },
    {
      "cell_type": "code",
      "execution_count": null,
      "metadata": {
        "collapsed": true,
        "id": "xywJHxz-9U92"
      },
      "outputs": [],
      "source": [
        "import numpy as np\n",
        "\n",
        "a1=np.array([[1, 1]]).T\n",
        "a2=np.array([[1, 1]]).T\n",
        "a3=np.array([[2, 0]]).T\n",
        "a4=np.array([[1, 2]]).T\n",
        "a5=np.array([[2, 1]]).T"
      ]
    },
    {
      "cell_type": "markdown",
      "metadata": {
        "id": "6ZB7Ydsf9U94"
      },
      "source": [
        "Here, vectors $\\mathbf{a}_1$, $\\mathbf{a}_2$ and $\\mathbf{a}_3$ belong to class $C_0$ and other vectors belong to class $C_1$. Form the matrices $\\mathbf{A}$ and $\\mathbf{C}$ as explained. Plot the vectors."
      ]
    },
    {
      "cell_type": "code",
      "execution_count": null,
      "metadata": {
        "colab": {
          "base_uri": "https://localhost:8080/",
          "height": 265
        },
        "id": "5r2HzlPZ9U-B",
        "outputId": "9abe04f9-2244-44bd-b876-d7d4f488aee2"
      },
      "outputs": [
        {
          "output_type": "display_data",
          "data": {
            "text/plain": [
              "<Figure size 432x288 with 1 Axes>"
            ],
            "image/png": "[encoded data removed]"
          },
          "metadata": {
            "needs_background": "light"
          }
        }
      ],
      "source": [
        "A=np.hstack([a1, a2, a3, a4, a5])\n",
        "C=np.array([[0, 0, 0, 1, 1]])\n",
        "\n",
        "import matplotlib.pyplot as plt\n",
        "\n",
        "plt.scatter(A[0, :], A[1, :], color=[[\"red\", \"blue\"][C[0, i]] for i in range(A.shape[1])])\n",
        "plt.show()"
      ]
    },
    {
      "cell_type": "markdown",
      "metadata": {
        "id": "dygWWt699U-C"
      },
      "source": [
        "Vectors belonging to the same class have the same symbol in the plot. You can initialize the perceptron as follows:"
      ]
    },
    {
      "cell_type": "code",
      "execution_count": null,
      "metadata": {
        "collapsed": true,
        "id": "INlFvU8O9U-C"
      },
      "outputs": [],
      "source": [
        "def initp(data, labels):\n",
        "    return -0.5+np.random.rand(labels.shape[0], data.shape[0]+1)\n",
        "\n",
        "W=initp(A, C)"
      ]
    },
    {
      "cell_type": "markdown",
      "metadata": {
        "id": "rnvWKyEn9U-D"
      },
      "source": [
        "Here, vector $\\mathbf{W}$ is the vector with neural network weights. The first column of $\\mathbf{W}$ represents the threshold value. The hyperplane can be visualized using following command:"
      ]
    },
    {
      "cell_type": "code",
      "execution_count": null,
      "metadata": {
        "colab": {
          "base_uri": "https://localhost:8080/",
          "height": 265
        },
        "id": "jEOUxBMr9U-D",
        "outputId": "c2203659-bec3-47b5-ae7c-c4335d69731e"
      },
      "outputs": [
        {
          "output_type": "display_data",
          "data": {
            "text/plain": [
              "<Figure size 432x288 with 1 Axes>"
            ],
            "image/png": "[encoded data removed]"
          },
          "metadata": {
            "needs_background": "light"
          }
        }
      ],
      "source": [
        "def predict(W, A):\n",
        "    return (W@np.vstack([-np.ones((1, A.shape[1])), A])>=0).astype(int)\n",
        "\n",
        "def plot(W, A):\n",
        "    x_start, x_end=A[0, :].min()-1, A[0, :].max()+1\n",
        "    y_start, y_end=A[1, :].min()-1, A[1, :].max()+1\n",
        "    \n",
        "    xx, yy=np.meshgrid(np.arange(x_start, x_end, 0.01), np.arange(y_start, y_end, 0.01))\n",
        "    grid=np.vstack([xx.ravel(), yy.ravel()])\n",
        "    \n",
        "    Z=predict(W, grid).reshape(xx.shape)\n",
        "    plt.contourf(xx, yy, Z, cmap=plt.cm.Paired)\n",
        "    plt.scatter(A[0, :], A[1, :])\n",
        "    \n",
        "    plt.scatter(A[0, :], A[1, :], color=[[\"red\", \"blue\"][C[0, i]] for i in range(A.shape[1])])\n",
        "    plt.show()\n",
        "\n",
        "plot(W, A)"
      ]
    },
    {
      "cell_type": "markdown",
      "metadata": {
        "id": "4IqpOcDd9U-E"
      },
      "source": [
        "Previously initialized perceptron can be trained by calling the function *trainlms_p* until correct (or satisfactory) segmentation (division) of the plain is achieved:"
      ]
    },
    {
      "cell_type": "code",
      "execution_count": null,
      "metadata": {
        "collapsed": true,
        "id": "1cRLgoSd9U-F"
      },
      "outputs": [],
      "source": [
        "def trainlms_p(ni, x, d, W, max_epoch):\n",
        "    w=W.copy()\n",
        "    \n",
        "    n=0\n",
        "    errors=[]\n",
        "    while (n<max_epoch):\n",
        "        n+=1\n",
        "        y=predict(w, x)\n",
        "        e=d-y\n",
        "        w+=ni*e@np.vstack([-np.ones((1, x.shape[1])), x]).T\n",
        "        error=np.sum(np.square(e))\n",
        "        errors.append(error)\n",
        "        if (error<0.02):\n",
        "            break\n",
        "    return w, errors"
      ]
    },
    {
      "cell_type": "markdown",
      "metadata": {
        "id": "U4i06_YP9U-F"
      },
      "source": [
        "**Tasks**\n",
        "\n",
        "1. Plot the plane and positions of last vectors with the classification plane in two cases: before and after training. Are classes $C_1$ and $C_2$ correctly separated in both cases?\n",
        "2. Show the segmentation error with regards to training iteration.\n",
        "3. Think of an experiment where you will use the perceptron to find the border in 2D space and train the required perceptron.\n",
        "-> shown in plot\n",
        "4. Think of an experiment where you will use the perceptron to find the border in 3D space and train the required perceptron.\n",
        "\n",
        "A = [(1,0,0), (2,0,0), (5, 1, 1), (5, 4, 1)]\n",
        "C = [1,1,0,0]"
      ]
    },
    {
      "cell_type": "code",
      "execution_count": null,
      "metadata": {
        "colab": {
          "base_uri": "https://localhost:8080/",
          "height": 1000
        },
        "id": "aQXnuQFl9U-G",
        "outputId": "fab82766-8323-4519-eade-3f7140b3df34"
      },
      "outputs": [
        {
          "output_type": "display_data",
          "data": {
            "text/plain": [
              "<Figure size 432x288 with 1 Axes>"
            ],
            "image/png": "[encoded data removed]"
          },
          "metadata": {
            "needs_background": "light"
          }
        },
        {
          "output_type": "display_data",
          "data": {
            "text/plain": [
              "<Figure size 432x288 with 1 Axes>"
            ],
            "image/png": "[encoded data removed]"
          },
          "metadata": {
            "needs_background": "light"
          }
        },
        {
          "output_type": "stream",
          "name": "stdout",
          "text": [
            "new 2d experiment\n"
          ]
        },
        {
          "output_type": "display_data",
          "data": {
            "text/plain": [
              "<Figure size 432x288 with 1 Axes>"
            ],
            "image/png": "[encoded data removed]"
          },
          "metadata": {
            "needs_background": "light"
          }
        },
        {
          "output_type": "display_data",
          "data": {
            "text/plain": [
              "<Figure size 432x288 with 1 Axes>"
            ],
            "image/png": "[encoded data removed]"
          },
          "metadata": {
            "needs_background": "light"
          }
        }
      ],
      "source": [
        "ni=0.5\n",
        "max_num_iter=1000\n",
        "\n",
        "plot(W, A)\n",
        "M, errors=trainlms_p(ni, A, C, W, max_num_iter)\n",
        "plot(M, A)\n",
        "\n",
        "print(\"new 2d experiment\")\n",
        "new_a1=np.array([[1, 1]]).T\n",
        "new_a2=np.array([[1, 2]]).T\n",
        "new_a3=np.array([[2, 2]]).T\n",
        "new_a4=np.array([[4, 4]]).T\n",
        "\n",
        "new_A=np.hstack([new_a1, new_a2, new_a3, new_a4])\n",
        "C=np.array([[0, 0, 1, 1]])\n",
        "new_W=initp(new_A, C)\n",
        "\n",
        "\n",
        "plot(new_W, new_A)\n",
        "new_M, new_errors=trainlms_p(ni, new_A, C, new_W, max_num_iter)\n",
        "plot(new_M, new_A)\n"
      ]
    },
    {
      "cell_type": "code",
      "execution_count": null,
      "metadata": {
        "colab": {
          "base_uri": "https://localhost:8080/",
          "height": 265
        },
        "id": "-P70l3jN9U-H",
        "outputId": "6434fc26-b0e0-4e2a-a90b-b6e0034d262c"
      },
      "outputs": [
        {
          "output_type": "display_data",
          "data": {
            "text/plain": [
              "<Figure size 432x288 with 1 Axes>"
            ],
            "image/png": "[encoded data removed]"
          },
          "metadata": {
            "needs_background": "light"
          }
        }
      ],
      "source": [
        "plt.plot(range(1, len(errors)+1), errors)\n",
        "plt.show()"
      ]
    },
    {
      "cell_type": "markdown",
      "metadata": {
        "id": "9Xy9mZ1h9U-H"
      },
      "source": [
        "### 3.1.2 Linearly inseparable case in 2D\n",
        "\n",
        "In this experiment we will try to train a perceptron for two linearly inseparable classes. To be more precise, we will try to solve the logical XOR function problem. Input vectors ai will represent the function inputs and classes $C_0$ and $C_1$ will represent the function values:"
      ]
    },
    {
      "cell_type": "code",
      "execution_count": null,
      "metadata": {
        "collapsed": true,
        "id": "1uaegSmq9U-I"
      },
      "outputs": [],
      "source": [
        "A=np.array([[0, 0, 1, 1], [0, 1, 0, 1]])\n",
        "C=np.array([[0, 1, 1, 0]])"
      ]
    },
    {
      "cell_type": "markdown",
      "metadata": {
        "id": "27gx7dfW9U-I"
      },
      "source": [
        "**Tasks**\n",
        "\n",
        "1. Use the same training procedure from the first experiment. Plot the obtained results (i.e. plot the input vectors before and after the training phase in the same window). Plot the error as well.\n",
        "2. Did perceptron learn to solve the XOR problem? Explain why.\n",
        "It did not, and it doesn't have a capacity to solve it, as it is linear classification model."
      ]
    },
    {
      "cell_type": "code",
      "execution_count": null,
      "metadata": {
        "colab": {
          "base_uri": "https://localhost:8080/",
          "height": 300
        },
        "id": "8ut1uDX59U-I",
        "outputId": "95f2de40-7c7c-42c6-a9e0-870e01c16be2"
      },
      "outputs": [
        {
          "output_type": "display_data",
          "data": {
            "text/plain": [
              "<Figure size 432x288 with 1 Axes>"
            ],
            "image/png": "[encoded data removed]"
          },
          "metadata": {
            "needs_background": "light"
          }
        },
        {
          "output_type": "stream",
          "name": "stdout",
          "text": [
            "[[0 1 1 0]]\n",
            "[[0 0 0 0]]\n"
          ]
        }
      ],
      "source": [
        "W=initp(A, C)\n",
        "M, errors=trainlms_p(ni, A, C, W, max_num_iter)\n",
        "plot(M, A)\n",
        "print(C)\n",
        "print(predict(M, A))"
      ]
    },
    {
      "cell_type": "markdown",
      "metadata": {
        "id": "vitk52Od9U-J"
      },
      "source": [
        "### 3.1.3 Classification of linearly separable examples in 3D space\n",
        "\n",
        "This experiment shows how to classify examples in 3D space. Input vectors are three dimensional and belong to 2 classes which are linearly separable. Input vectors are:"
      ]
    },
    {
      "cell_type": "code",
      "execution_count": null,
      "metadata": {
        "collapsed": true,
        "id": "6nHqUsWC9U-J"
      },
      "outputs": [],
      "source": [
        "a1=np.array([[0, 0, 0]]).T\n",
        "a2=np.array([[0, 0, 0]]).T\n",
        "a3=np.array([[0, 1, 0]]).T\n",
        "a4=np.array([[0, 1, 1]]).T\n",
        "a5=np.array([[1, 0, 0]]).T\n",
        "\n",
        "A=np.hstack([a1, a2, a3, a4, a5])\n",
        "C=np.array([[0, 1, 0, 0, 1]])"
      ]
    },
    {
      "cell_type": "markdown",
      "metadata": {
        "id": "bDZPxLaQ9U-J"
      },
      "source": [
        "Here, vectors $\\mathbf{a}_1$, $\\mathbf{a}_3$ and $\\mathbf{a}_4$ belong to class $C_0$ and other vectors belong to class $C_1$.\n",
        "\n",
        "**Tasks**\n",
        "\n",
        "1. Repeat the learning procedure from 3.1.1. and show the obtained results with plot of the error.\n",
        "2. Change the vector classes until classes $C_0$ and $C_1$ become linearly inseparable. When does this happen?\n",
        "\n",
        "Algorithm doesn't converge to zero."
      ]
    },
    {
      "cell_type": "code",
      "execution_count": null,
      "metadata": {
        "colab": {
          "base_uri": "https://localhost:8080/",
          "height": 300
        },
        "id": "CstGHZmn9U-J",
        "outputId": "6fa61121-6f24-4e88-ccbb-0a63caeaf45c"
      },
      "outputs": [
        {
          "output_type": "display_data",
          "data": {
            "text/plain": [
              "<Figure size 432x288 with 1 Axes>"
            ],
            "image/png": "[encoded data removed]"
          },
          "metadata": {
            "needs_background": "light"
          }
        },
        {
          "output_type": "stream",
          "name": "stdout",
          "text": [
            "[[0 1 0 0 1]]\n",
            "[[1 1 0 0 1]]\n"
          ]
        }
      ],
      "source": [
        "W=initp(A, C)\n",
        "M, errors=trainlms_p(ni, A, C, W, max_num_iter)\n",
        "\n",
        "plt.plot(range(1, len(errors)+1), errors)\n",
        "plt.show()\n",
        "\n",
        "print(C)\n",
        "print(predict(M, A))"
      ]
    },
    {
      "cell_type": "markdown",
      "metadata": {
        "id": "fcm7puMv9U-K"
      },
      "source": [
        "## 3.2 Classification of examples with Gaussian distribution\n",
        "\n",
        "The second part of this exercise tries to show how to classify examples with Gaussian distribution, which can be typically found in real life problems.\n",
        "\n",
        "Suppose we have two classes of 2D vectors, where each class represents the realization of the random vector with Gaussian distribution. We will set the mean value and standard deviation of the first class to $E(C_0)=(10, 10)$ and $S(C_0)=2.5$ for each of the components. The second class will have the expected value $E(C_1)=(20, 5)$ and standard deviation $S(C_1)=2$. Create 100 vectors for each class as follows:"
      ]
    },
    {
      "cell_type": "code",
      "execution_count": null,
      "metadata": {
        "collapsed": true,
        "id": "cwIn562T9U-K"
      },
      "outputs": [],
      "source": [
        "A1=np.random.normal((10, 10), (2.5, 2.5), size=(100,2)).T\n",
        "A2=np.random.normal((20, 5), (2, 2), size=(100,2)).T"
      ]
    },
    {
      "cell_type": "markdown",
      "metadata": {
        "id": "RI8OFXCR9U-K"
      },
      "source": [
        "After this step we have to construct the matrix $\\mathbf{A}$ containing vectors $\\mathbf{A}_1$ and $\\mathbf{A}_2$. We have to form the vector $\\mathbf{C}$ which says that first that 100 elements belong to class $C_0$ and other elements belong to class $C_1$:"
      ]
    },
    {
      "cell_type": "code",
      "execution_count": null,
      "metadata": {
        "collapsed": true,
        "id": "_fjYC2Z89U-L"
      },
      "outputs": [],
      "source": [
        "A=np.hstack([A1, A2])\n",
        "C=np.hstack([np.zeros((1,100)), np.ones((1, 100))]).astype(int)"
      ]
    },
    {
      "cell_type": "markdown",
      "metadata": {
        "id": "II-DyGoD9U-L"
      },
      "source": [
        "**Tasks**\n",
        "\n",
        "1. Repeat the training procedure from the first part of the exercise. Plot the obtained results.\n",
        "2. How many examples were misclassified?\n",
        "\n",
        "4\n",
        "3. If the input vector is given as $\\mathbf{a}_i$=(10,3) where would we classify this example?\n",
        "\n",
        "C1"
      ]
    },
    {
      "cell_type": "code",
      "execution_count": null,
      "metadata": {
        "colab": {
          "base_uri": "https://localhost:8080/",
          "height": 265
        },
        "id": "KDnxCjkc9U-L",
        "outputId": "ef11da18-d604-4d0b-d871-7dc3728d9a85"
      },
      "outputs": [
        {
          "output_type": "display_data",
          "data": {
            "text/plain": [
              "<Figure size 432x288 with 1 Axes>"
            ],
            "image/png": "[encoded data removed]"
          },
          "metadata": {
            "needs_background": "light"
          }
        }
      ],
      "source": [
        "W=initp(A, C)\n",
        "M, errors=trainlms_p(ni, A, C, W, max_num_iter)\n",
        "plot(M, A)"
      ]
    },
    {
      "cell_type": "code",
      "execution_count": null,
      "metadata": {
        "colab": {
          "base_uri": "https://localhost:8080/"
        },
        "id": "Atwcd0TO9U-L",
        "outputId": "17143212-10b0-43c6-b005-d3428c90b5fb"
      },
      "outputs": [
        {
          "output_type": "stream",
          "name": "stdout",
          "text": [
            "Number of misclassified examples: 4\n"
          ]
        }
      ],
      "source": [
        "print(\"Number of misclassified examples: %d\"%(np.sum(np.absolute(C-predict(M, A)))))"
      ]
    },
    {
      "cell_type": "code",
      "execution_count": null,
      "metadata": {
        "colab": {
          "base_uri": "https://localhost:8080/"
        },
        "id": "tiv6n7129U-L",
        "outputId": "2e223a2e-593c-4908-fcb1-c674c65a8304"
      },
      "outputs": [
        {
          "output_type": "stream",
          "name": "stdout",
          "text": [
            "Classified as C1.\n"
          ]
        }
      ],
      "source": [
        "a=np.array([[10], [3]])\n",
        "print(\"Classified as C%d.\"%predict(M, a)[0][0])"
      ]
    },
    {
      "cell_type": "markdown",
      "metadata": {
        "id": "uL7Y58LJ9U-M"
      },
      "source": [
        "### 3.3.1 Classification of examples using two perceptrons\n",
        "\n",
        "The third part of the exercise shows how to use more than one perceptron in order to classify input vectors in larger number of classes. In Figure 4 we can see a network with two perceptrons which can be used in order to classify the examples in four linearly inseparable classes.\n",
        "\n",
        "![Two perceptrons](img/two.png)\n",
        "<center>Figure 4. Two perceptrons for classification in four classes (outputs are binary coded)</center>\n",
        "\n",
        "Suppose we have 10 2D input vectors defined with matrix $\\mathbf{A}$ where each column of the matrix represents one input vector:"
      ]
    },
    {
      "cell_type": "code",
      "execution_count": null,
      "metadata": {
        "collapsed": true,
        "id": "SqQ0JuM59U-M"
      },
      "outputs": [],
      "source": [
        "A=np.array([[0.1, 0.7, 0.8, 0.8, 1.0, 0.3, 0.0, -0.3, -0.5, -1.5], [1.2, 1.8, 1.6, 0.6, 0.8, 0.5, 0.2, 0.8, -1.5, -1.3]])"
      ]
    },
    {
      "cell_type": "markdown",
      "metadata": {
        "id": "xZsCUK-z9U-M"
      },
      "source": [
        "Matrix $\\mathbf{C}$ is used to define in which class each input vector belongs to:"
      ]
    },
    {
      "cell_type": "code",
      "execution_count": null,
      "metadata": {
        "collapsed": true,
        "id": "YUIwvZNz9U-M"
      },
      "outputs": [],
      "source": [
        "C=np.array([[1, 1, 1, 0, 0, 1, 1, 1, 0, 0], [0, 0, 0, 0, 0, 1, 1, 1, 1, 1]]);"
      ]
    },
    {
      "cell_type": "markdown",
      "metadata": {
        "id": "Kbfa_-4v9U-N"
      },
      "source": [
        "Each column of the matrix $\\mathbf{C}$ is a 2D vector, where each two bits represent the binary coded class value for each input vector. Using two bits we can binary code four different values, which represent the class names: $C_0$, $C_1$, $C_2$, $C_3$. This network is trained using the same procedure used for the network with only one perceptron.\n",
        "\n",
        "**Tasks**\n",
        "\n",
        "1. Train the network. Plot the obtained results with plot of the error."
      ]
    },
    {
      "cell_type": "code",
      "execution_count": null,
      "metadata": {
        "colab": {
          "base_uri": "https://localhost:8080/",
          "height": 282
        },
        "id": "dLPmJ7oB9U-N",
        "outputId": "c3b3a7c8-9fc4-4a40-a70d-f748a9f3ba9c"
      },
      "outputs": [
        {
          "output_type": "display_data",
          "data": {
            "text/plain": [
              "<Figure size 432x288 with 1 Axes>"
            ],
            "image/png": "[encoded data removed]"
          },
          "metadata": {
            "needs_background": "light"
          }
        },
        {
          "output_type": "stream",
          "name": "stdout",
          "text": [
            "0\n"
          ]
        }
      ],
      "source": [
        "W=initp(A, C)\n",
        "M, errors=trainlms_p(ni, A, C, W, max_num_iter)\n",
        "plt.plot(range(1, len(errors)+1), errors)\n",
        "plt.show()\n",
        "\n",
        "print(errors[-1])"
      ]
    }
  ],
  "metadata": {
    "kernelspec": {
      "display_name": "Python 3",
      "language": "python",
      "name": "python3"
    },
    "language_info": {
      "codemirror_mode": {
        "name": "ipython",
        "version": 3
      },
      "file_extension": ".py",
      "mimetype": "text/x-python",
      "name": "python",
      "nbconvert_exporter": "python",
      "pygments_lexer": "ipython3",
      "version": "3.6.1"
    },
    "colab": {
      "provenance": []
    }
  },
  "nbformat": 4,
  "nbformat_minor": 0
}