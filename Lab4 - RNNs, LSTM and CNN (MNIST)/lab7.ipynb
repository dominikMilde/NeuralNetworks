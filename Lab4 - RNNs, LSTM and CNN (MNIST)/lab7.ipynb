{
 "cells": [
  {
   "cell_type": "markdown",
   "metadata": {},
   "source": [
    "# 7 Recurrent neural networks\n",
    "In this exercise we will try a simple experiment with a recurrent neural network. One of the well-known recurrent neural network models is the so called Long short-term memory (LSTM) network. More information on LSTM can be found in the text [Understanding LSTM Networks](http://colah.github.io/posts/2015-08-Understanding-LSTMs/).\n",
    "\n",
    "## 7.1 The MNIST dataset revisited (1)\n",
    "In one of the previous exercises the MNIST dataset was used to demonstrate the use of multilayer perceptron. Here we are going to apply a recurrent neural network to the problem of digits classification. To keep it simple, we will use a simple LSTM network that will be fed with one row of the image at a time. With each new row, it will update its states and give its prediction. What we are interested in is its prediction after the last row i.e. after it has the full information."
   ]
  },
  {
   "cell_type": "code",
   "execution_count": 1,
   "metadata": {},
   "outputs": [
    {
     "name": "stdout",
     "output_type": "stream",
     "text": [
      "Extracting mnist/train-images-idx3-ubyte.gz\n",
      "Extracting mnist/train-labels-idx1-ubyte.gz\n",
      "Extracting mnist/t10k-images-idx3-ubyte.gz\n",
      "Extracting mnist/t10k-labels-idx1-ubyte.gz\n",
      "WARNING:tensorflow:From C:\\Users\\Dominik\\AppData\\Local\\Temp\\ipykernel_17356\\705226105.py:32: static_rnn (from tensorflow.python.ops.rnn) is deprecated and will be removed in a future version.\n",
      "Instructions for updating:\n",
      "Please use `keras.layers.RNN(cell, unroll=True)`, which is equivalent to this API\n",
      "WARNING:tensorflow:From C:\\Users\\Dominik\\anaconda3\\envs\\nnets\\lib\\site-packages\\tensorflow\\python\\keras\\layers\\legacy_rnn\\rnn_cell_impl.py:762: calling Zeros.__init__ (from tensorflow.python.ops.init_ops) with dtype is deprecated and will be removed in a future version.\n",
      "Instructions for updating:\n",
      "Call initializer instance with the dtype argument instead of passing it to the constructor\n"
     ]
    },
    {
     "name": "stderr",
     "output_type": "stream",
     "text": [
      "C:\\Users\\Dominik\\anaconda3\\envs\\nnets\\lib\\site-packages\\tensorflow\\python\\keras\\layers\\legacy_rnn\\rnn_cell_impl.py:711: UserWarning: `tf.nn.rnn_cell.BasicLSTMCell` is deprecated and will be removed in a future version. This class is equivalent as `tf.keras.layers.LSTMCell`, and will be replaced by that in Tensorflow 2.0.\n",
      "  warnings.warn(\"`tf.nn.rnn_cell.BasicLSTMCell` is deprecated and will be \"\n",
      "C:\\Users\\Dominik\\anaconda3\\envs\\nnets\\lib\\site-packages\\tensorflow\\python\\keras\\engine\\base_layer_v1.py:1702: UserWarning: `layer.add_variable` is deprecated and will be removed in a future version. Please use `layer.add_weight` method instead.\n",
      "  warnings.warn('`layer.add_variable` is deprecated and '\n"
     ]
    },
    {
     "name": "stdout",
     "output_type": "stream",
     "text": [
      "WARNING:tensorflow:From C:\\Users\\Dominik\\anaconda3\\envs\\nnets\\lib\\site-packages\\tensorflow\\python\\util\\dispatch.py:1176: softmax_cross_entropy_with_logits (from tensorflow.python.ops.nn_ops) is deprecated and will be removed in a future version.\n",
      "Instructions for updating:\n",
      "\n",
      "Future major versions of TensorFlow will allow gradients to flow\n",
      "into the labels input on backprop by default.\n",
      "\n",
      "See `tf.nn.softmax_cross_entropy_with_logits_v2`.\n",
      "\n"
     ]
    },
    {
     "name": "stderr",
     "output_type": "stream",
     "text": [
      "C:\\Users\\Dominik\\AppData\\Local\\Temp\\ipykernel_17356\\705226105.py:34: UserWarning: `tf.layers.dense` is deprecated and will be removed in a future version. Please use `tf.keras.layers.Dense` instead.\n",
      "  logits=tf.layers.dense(outputs[-1], n_classes)\n"
     ]
    },
    {
     "name": "stdout",
     "output_type": "stream",
     "text": [
      "Epoch #1 0.9667\n",
      "Epoch #2 0.9754\n",
      "Epoch #3 0.9703\n",
      "Epoch #4 0.9814\n",
      "Epoch #5 0.9866\n",
      "Epoch #6 0.9845\n",
      "Epoch #7 0.9858\n",
      "Epoch #8 0.9852\n",
      "Epoch #9 0.9854\n",
      "Epoch #10 0.9856\n",
      "Epoch #11 0.9871\n",
      "Epoch #12 0.9859\n",
      "Epoch #13 0.9885\n",
      "Epoch #14 0.9886\n",
      "Epoch #15 0.9861\n"
     ]
    }
   ],
   "source": [
    "import tensorflow.compat.v1 as tf\n",
    "tf.disable_eager_execution()\n",
    "from tensorflow.compat.v1.nn import static_rnn\n",
    "from tensorflow.compat.v1.nn.rnn_cell import BasicLSTMCell\n",
    "\n",
    "import input_data\n",
    "mnist=input_data.read_data_sets(\"mnist/\", one_hot=True)\n",
    "\n",
    "learning_rate=0.005\n",
    "training_epochs_count=15\n",
    "batch_size=150\n",
    "batches_count=int(mnist.train.num_examples/batch_size)\n",
    "display_step=1\n",
    "\n",
    "#we will feed a row at a time to the LSTM and there are 28 rows per image\n",
    "timesteps=28\n",
    "#each row has 28 columns whose values are simultaneously passed to LSTM\n",
    "n_input=28 # MNIST data input (img shape: 28*28)\n",
    "#the number of hidden states in the LSTM\n",
    "n_hidden=128\n",
    "n_classes=10\n",
    "\n",
    "x=tf.placeholder(\"float\", [None, timesteps, n_input])\n",
    "y=tf.placeholder(\"float\", [None, n_classes])\n",
    "\n",
    "#separate the rows separate rows\n",
    "unstacked=tf.unstack(x, timesteps, 1)\n",
    "\n",
    "#prepare the LSTM\n",
    "lstm_cell=BasicLSTMCell(n_hidden)\n",
    "#feed the rows iteratively to LSTM\n",
    "outputs, states=static_rnn(lstm_cell, unstacked, dtype=tf.float32)\n",
    "#take the last output (index -1) i.e. the output after the last row and use it for classification\n",
    "logits=tf.layers.dense(outputs[-1], n_classes)\n",
    "y_predicted=tf.nn.softmax(logits)\n",
    "\n",
    "cost=tf.reduce_mean(tf.nn.softmax_cross_entropy_with_logits(logits=logits, labels=y))\n",
    "optimizer=tf.train.AdamOptimizer(learning_rate=learning_rate).minimize(cost)\n",
    "\n",
    "correct_y_predicted=tf.equal(tf.argmax(y_predicted, 1), tf.argmax(y, 1))\n",
    "accuracy=tf.reduce_mean(tf.cast(correct_y_predicted, tf.float32))\n",
    "\n",
    "acc28 = []\n",
    "\n",
    "#with such a block we don't need to close the session later - it will be closed automatically\n",
    "with tf.Session() as session:\n",
    "    session.run(tf.global_variables_initializer())\n",
    "    for epoch in range(training_epochs_count):\n",
    "        for i in range(batches_count):\n",
    "            batch_x, batch_y = mnist.train.next_batch(batch_size)\n",
    "            session.run(optimizer, feed_dict={x:batch_x.reshape((-1, timesteps, n_input)), y:batch_y})\n",
    "        if ((epoch+1)%display_step==0):\n",
    "            acc = session.run(accuracy, feed_dict={x: mnist.test.images.reshape((-1, timesteps, n_input)), y: mnist.test.labels})\n",
    "            acc28.append(acc)\n",
    "            print(\"Epoch #\"+str(epoch+1)+\" \"+str(acc))\n"
   ]
  },
  {
   "cell_type": "code",
   "execution_count": 2,
   "metadata": {},
   "outputs": [
    {
     "name": "stdout",
     "output_type": "stream",
     "text": [
      "[0.9667, 0.9754, 0.9703, 0.9814, 0.9866, 0.9845, 0.9858, 0.9852, 0.9854, 0.9856, 0.9871, 0.9859, 0.9885, 0.9886, 0.9861]\n"
     ]
    }
   ],
   "source": [
    "print(acc28)"
   ]
  },
  {
   "cell_type": "code",
   "execution_count": 1,
   "metadata": {},
   "outputs": [
    {
     "name": "stdout",
     "output_type": "stream",
     "text": [
      "Extracting mnist/train-images-idx3-ubyte.gz\n",
      "Extracting mnist/train-labels-idx1-ubyte.gz\n",
      "Extracting mnist/t10k-images-idx3-ubyte.gz\n",
      "Extracting mnist/t10k-labels-idx1-ubyte.gz\n",
      "WARNING:tensorflow:From C:\\Users\\Dominik\\AppData\\Local\\Temp\\ipykernel_10652\\3609110698.py:35: static_rnn (from tensorflow.python.ops.rnn) is deprecated and will be removed in a future version.\n",
      "Instructions for updating:\n",
      "Please use `keras.layers.RNN(cell, unroll=True)`, which is equivalent to this API\n",
      "WARNING:tensorflow:From C:\\Users\\Dominik\\anaconda3\\envs\\nnets\\lib\\site-packages\\tensorflow\\python\\keras\\layers\\legacy_rnn\\rnn_cell_impl.py:762: calling Zeros.__init__ (from tensorflow.python.ops.init_ops) with dtype is deprecated and will be removed in a future version.\n",
      "Instructions for updating:\n",
      "Call initializer instance with the dtype argument instead of passing it to the constructor\n"
     ]
    },
    {
     "name": "stderr",
     "output_type": "stream",
     "text": [
      "C:\\Users\\Dominik\\anaconda3\\envs\\nnets\\lib\\site-packages\\tensorflow\\python\\keras\\layers\\legacy_rnn\\rnn_cell_impl.py:711: UserWarning: `tf.nn.rnn_cell.BasicLSTMCell` is deprecated and will be removed in a future version. This class is equivalent as `tf.keras.layers.LSTMCell`, and will be replaced by that in Tensorflow 2.0.\n",
      "  warnings.warn(\"`tf.nn.rnn_cell.BasicLSTMCell` is deprecated and will be \"\n",
      "C:\\Users\\Dominik\\anaconda3\\envs\\nnets\\lib\\site-packages\\tensorflow\\python\\keras\\engine\\base_layer_v1.py:1702: UserWarning: `layer.add_variable` is deprecated and will be removed in a future version. Please use `layer.add_weight` method instead.\n",
      "  warnings.warn('`layer.add_variable` is deprecated and '\n"
     ]
    },
    {
     "name": "stdout",
     "output_type": "stream",
     "text": [
      "WARNING:tensorflow:From C:\\Users\\Dominik\\anaconda3\\envs\\nnets\\lib\\site-packages\\tensorflow\\python\\util\\dispatch.py:1176: softmax_cross_entropy_with_logits (from tensorflow.python.ops.nn_ops) is deprecated and will be removed in a future version.\n",
      "Instructions for updating:\n",
      "\n",
      "Future major versions of TensorFlow will allow gradients to flow\n",
      "into the labels input on backprop by default.\n",
      "\n",
      "See `tf.nn.softmax_cross_entropy_with_logits_v2`.\n",
      "\n"
     ]
    },
    {
     "name": "stderr",
     "output_type": "stream",
     "text": [
      "C:\\Users\\Dominik\\AppData\\Local\\Temp\\ipykernel_10652\\3609110698.py:37: UserWarning: `tf.layers.dense` is deprecated and will be removed in a future version. Please use `tf.keras.layers.Dense` instead.\n",
      "  logits=tf.layers.dense(outputs[-1], n_classes)\n"
     ]
    },
    {
     "name": "stdout",
     "output_type": "stream",
     "text": [
      "Epoch #1 0.913\n",
      "Epoch #2 0.9326\n",
      "Epoch #3 0.9328\n",
      "Epoch #4 0.9366\n",
      "Epoch #5 0.9368\n",
      "Epoch #6 0.9435\n",
      "Epoch #7 0.9435\n",
      "Epoch #8 0.9419\n",
      "Epoch #9 0.9397\n",
      "Epoch #10 0.9371\n",
      "Epoch #11 0.9459\n",
      "Epoch #12 0.9421\n",
      "Epoch #13 0.9405\n",
      "Epoch #14 0.9431\n",
      "Epoch #15 0.9422\n",
      "[0.913, 0.9326, 0.9328, 0.9366, 0.9368, 0.9435, 0.9435, 0.9419, 0.9397, 0.9371, 0.9459, 0.9421, 0.9405, 0.9431, 0.9422]\n"
     ]
    }
   ],
   "source": [
    "import tensorflow.compat.v1 as tf\n",
    "tf.disable_eager_execution()\n",
    "from tensorflow.compat.v1.nn import static_rnn\n",
    "from tensorflow.compat.v1.nn.rnn_cell import BasicLSTMCell\n",
    "\n",
    "import input_data\n",
    "mnist=input_data.read_data_sets(\"mnist/\", one_hot=True)\n",
    "\n",
    "learning_rate=0.005\n",
    "training_epochs_count=15\n",
    "batch_size=150\n",
    "batches_count=int(mnist.train.num_examples/batch_size)\n",
    "display_step=1\n",
    "\n",
    "\n",
    "timesteps=14\n",
    "\n",
    "\n",
    "\n",
    "#each row has 28 columns whose values are simultaneously passed to LSTM\n",
    "n_input=28 # MNIST data input (img shape: 28*28)\n",
    "#the number of hidden states in the LSTM\n",
    "n_hidden=128\n",
    "n_classes=10\n",
    "\n",
    "x=tf.placeholder(\"float\", [None, timesteps, n_input])\n",
    "y=tf.placeholder(\"float\", [None, n_classes])\n",
    "\n",
    "#separate the rows separate rows\n",
    "unstacked=tf.unstack(x, timesteps, 1)\n",
    "\n",
    "#prepare the LSTM\n",
    "lstm_cell=BasicLSTMCell(n_hidden)\n",
    "#feed the rows iteratively to LSTM\n",
    "outputs, states=static_rnn(lstm_cell, unstacked, dtype=tf.float32)\n",
    "#take the last output (index -1) i.e. the output after the last row and use it for classification\n",
    "logits=tf.layers.dense(outputs[-1], n_classes)\n",
    "y_predicted=tf.nn.softmax(logits)\n",
    "\n",
    "cost=tf.reduce_mean(tf.nn.softmax_cross_entropy_with_logits(logits=logits, labels=y))\n",
    "optimizer=tf.train.AdamOptimizer(learning_rate=learning_rate).minimize(cost)\n",
    "\n",
    "correct_y_predicted=tf.equal(tf.argmax(y_predicted, 1), tf.argmax(y, 1))\n",
    "accuracy=tf.reduce_mean(tf.cast(correct_y_predicted, tf.float32))\n",
    "\n",
    "acc1 = []\n",
    "\n",
    "#with such a block we don't need to close the session later - it will be closed automatically\n",
    "with tf.Session() as session:\n",
    "    session.run(tf.global_variables_initializer())\n",
    "    for epoch in range(training_epochs_count):\n",
    "        for i in range(batches_count):\n",
    "            batch_x, batch_y = mnist.train.next_batch(batch_size)\n",
    "            batch_x = batch_x.reshape(batch_size, n_input, n_input)\n",
    "            session.run(optimizer, feed_dict={x:batch_x[:,:timesteps,:], y:batch_y})\n",
    "        if ((epoch+1)%display_step==0):\n",
    "            acc = session.run(accuracy, feed_dict={x: mnist.test.images.reshape(-1, n_input, n_input)[:,:timesteps,:], y: mnist.test.labels})\n",
    "            acc1.append(acc)\n",
    "            print(\"Epoch #\"+str(epoch+1)+\" \"+str(acc))\n",
    "\n",
    "print(acc1)"
   ]
  },
  {
   "cell_type": "code",
   "execution_count": 1,
   "metadata": {},
   "outputs": [
    {
     "name": "stdout",
     "output_type": "stream",
     "text": [
      "Extracting mnist/train-images-idx3-ubyte.gz\n",
      "Extracting mnist/train-labels-idx1-ubyte.gz\n",
      "Extracting mnist/t10k-images-idx3-ubyte.gz\n",
      "Extracting mnist/t10k-labels-idx1-ubyte.gz\n",
      "WARNING:tensorflow:From C:\\Users\\Dominik\\AppData\\Local\\Temp\\ipykernel_8372\\3320092968.py:35: static_rnn (from tensorflow.python.ops.rnn) is deprecated and will be removed in a future version.\n",
      "Instructions for updating:\n",
      "Please use `keras.layers.RNN(cell, unroll=True)`, which is equivalent to this API\n",
      "WARNING:tensorflow:From C:\\Users\\Dominik\\anaconda3\\envs\\nnets\\lib\\site-packages\\tensorflow\\python\\keras\\layers\\legacy_rnn\\rnn_cell_impl.py:762: calling Zeros.__init__ (from tensorflow.python.ops.init_ops) with dtype is deprecated and will be removed in a future version.\n",
      "Instructions for updating:\n",
      "Call initializer instance with the dtype argument instead of passing it to the constructor\n"
     ]
    },
    {
     "name": "stderr",
     "output_type": "stream",
     "text": [
      "C:\\Users\\Dominik\\anaconda3\\envs\\nnets\\lib\\site-packages\\tensorflow\\python\\keras\\layers\\legacy_rnn\\rnn_cell_impl.py:711: UserWarning: `tf.nn.rnn_cell.BasicLSTMCell` is deprecated and will be removed in a future version. This class is equivalent as `tf.keras.layers.LSTMCell`, and will be replaced by that in Tensorflow 2.0.\n",
      "  warnings.warn(\"`tf.nn.rnn_cell.BasicLSTMCell` is deprecated and will be \"\n",
      "C:\\Users\\Dominik\\anaconda3\\envs\\nnets\\lib\\site-packages\\tensorflow\\python\\keras\\engine\\base_layer_v1.py:1702: UserWarning: `layer.add_variable` is deprecated and will be removed in a future version. Please use `layer.add_weight` method instead.\n",
      "  warnings.warn('`layer.add_variable` is deprecated and '\n",
      "C:\\Users\\Dominik\\AppData\\Local\\Temp\\ipykernel_8372\\3320092968.py:37: UserWarning: `tf.layers.dense` is deprecated and will be removed in a future version. Please use `tf.keras.layers.Dense` instead.\n",
      "  logits=tf.layers.dense(outputs[-1], n_classes)\n"
     ]
    },
    {
     "name": "stdout",
     "output_type": "stream",
     "text": [
      "WARNING:tensorflow:From C:\\Users\\Dominik\\anaconda3\\envs\\nnets\\lib\\site-packages\\tensorflow\\python\\util\\dispatch.py:1176: softmax_cross_entropy_with_logits (from tensorflow.python.ops.nn_ops) is deprecated and will be removed in a future version.\n",
      "Instructions for updating:\n",
      "\n",
      "Future major versions of TensorFlow will allow gradients to flow\n",
      "into the labels input on backprop by default.\n",
      "\n",
      "See `tf.nn.softmax_cross_entropy_with_logits_v2`.\n",
      "\n",
      "Epoch #1 0.5923\n",
      "Epoch #2 0.6105\n",
      "Epoch #3 0.6168\n",
      "Epoch #4 0.6283\n",
      "Epoch #5 0.6344\n",
      "Epoch #6 0.6305\n",
      "Epoch #7 0.6391\n",
      "Epoch #8 0.6389\n",
      "Epoch #9 0.639\n",
      "Epoch #10 0.64\n",
      "Epoch #11 0.6386\n",
      "Epoch #12 0.6405\n",
      "Epoch #13 0.6446\n",
      "Epoch #14 0.6402\n",
      "Epoch #15 0.6409\n",
      "[0.5923, 0.6105, 0.6168, 0.6283, 0.6344, 0.6305, 0.6391, 0.6389, 0.639, 0.64, 0.6386, 0.6405, 0.6446, 0.6402, 0.6409]\n"
     ]
    }
   ],
   "source": [
    "import tensorflow.compat.v1 as tf\n",
    "tf.disable_eager_execution()\n",
    "from tensorflow.compat.v1.nn import static_rnn\n",
    "from tensorflow.compat.v1.nn.rnn_cell import BasicLSTMCell\n",
    "\n",
    "import input_data\n",
    "mnist=input_data.read_data_sets(\"mnist/\", one_hot=True)\n",
    "\n",
    "learning_rate=0.005\n",
    "training_epochs_count=15\n",
    "batch_size=150\n",
    "batches_count=int(mnist.train.num_examples/batch_size)\n",
    "display_step=1\n",
    "\n",
    "\n",
    "timesteps=7\n",
    "\n",
    "\n",
    "\n",
    "#each row has 28 columns whose values are simultaneously passed to LSTM\n",
    "n_input=28 # MNIST data input (img shape: 28*28)\n",
    "#the number of hidden states in the LSTM\n",
    "n_hidden=128\n",
    "n_classes=10\n",
    "\n",
    "x=tf.placeholder(\"float\", [None, timesteps, n_input])\n",
    "y=tf.placeholder(\"float\", [None, n_classes])\n",
    "\n",
    "#separate the rows separate rows\n",
    "unstacked=tf.unstack(x, timesteps, 1)\n",
    "\n",
    "#prepare the LSTM\n",
    "lstm_cell=BasicLSTMCell(n_hidden)\n",
    "#feed the rows iteratively to LSTM\n",
    "outputs, states=static_rnn(lstm_cell, unstacked, dtype=tf.float32)\n",
    "#take the last output (index -1) i.e. the output after the last row and use it for classification\n",
    "logits=tf.layers.dense(outputs[-1], n_classes)\n",
    "y_predicted=tf.nn.softmax(logits)\n",
    "\n",
    "cost=tf.reduce_mean(tf.nn.softmax_cross_entropy_with_logits(logits=logits, labels=y))\n",
    "optimizer=tf.train.AdamOptimizer(learning_rate=learning_rate).minimize(cost)\n",
    "\n",
    "correct_y_predicted=tf.equal(tf.argmax(y_predicted, 1), tf.argmax(y, 1))\n",
    "accuracy=tf.reduce_mean(tf.cast(correct_y_predicted, tf.float32))\n",
    "\n",
    "acc1 = []\n",
    "\n",
    "#with such a block we don't need to close the session later - it will be closed automatically\n",
    "with tf.Session() as session:\n",
    "    session.run(tf.global_variables_initializer())\n",
    "    for epoch in range(training_epochs_count):\n",
    "        for i in range(batches_count):\n",
    "            batch_x, batch_y = mnist.train.next_batch(batch_size)\n",
    "            batch_x = batch_x.reshape(batch_size, n_input, n_input)\n",
    "            session.run(optimizer, feed_dict={x:batch_x[:,:timesteps,:], y:batch_y})\n",
    "        if ((epoch+1)%display_step==0):\n",
    "            acc = session.run(accuracy, feed_dict={x: mnist.test.images.reshape(-1, n_input, n_input)[:,:timesteps,:], y: mnist.test.labels})\n",
    "            acc1.append(acc)\n",
    "            print(\"Epoch #\"+str(epoch+1)+\" \"+str(acc))\n",
    "\n",
    "print(acc1)"
   ]
  },
  {
   "cell_type": "code",
   "execution_count": 1,
   "metadata": {},
   "outputs": [
    {
     "name": "stdout",
     "output_type": "stream",
     "text": [
      "Extracting mnist/train-images-idx3-ubyte.gz\n",
      "Extracting mnist/train-labels-idx1-ubyte.gz\n",
      "Extracting mnist/t10k-images-idx3-ubyte.gz\n",
      "Extracting mnist/t10k-labels-idx1-ubyte.gz\n",
      "WARNING:tensorflow:From C:\\Users\\Dominik\\AppData\\Local\\Temp\\ipykernel_5160\\628077283.py:35: static_rnn (from tensorflow.python.ops.rnn) is deprecated and will be removed in a future version.\n",
      "Instructions for updating:\n",
      "Please use `keras.layers.RNN(cell, unroll=True)`, which is equivalent to this API\n",
      "WARNING:tensorflow:From C:\\Users\\Dominik\\anaconda3\\envs\\nnets\\lib\\site-packages\\tensorflow\\python\\keras\\layers\\legacy_rnn\\rnn_cell_impl.py:762: calling Zeros.__init__ (from tensorflow.python.ops.init_ops) with dtype is deprecated and will be removed in a future version.\n",
      "Instructions for updating:\n",
      "Call initializer instance with the dtype argument instead of passing it to the constructor\n",
      "WARNING:tensorflow:From C:\\Users\\Dominik\\anaconda3\\envs\\nnets\\lib\\site-packages\\tensorflow\\python\\util\\dispatch.py:1176: softmax_cross_entropy_with_logits (from tensorflow.python.ops.nn_ops) is deprecated and will be removed in a future version.\n",
      "Instructions for updating:\n",
      "\n",
      "Future major versions of TensorFlow will allow gradients to flow\n",
      "into the labels input on backprop by default.\n",
      "\n",
      "See `tf.nn.softmax_cross_entropy_with_logits_v2`.\n",
      "\n"
     ]
    },
    {
     "name": "stderr",
     "output_type": "stream",
     "text": [
      "C:\\Users\\Dominik\\anaconda3\\envs\\nnets\\lib\\site-packages\\tensorflow\\python\\keras\\layers\\legacy_rnn\\rnn_cell_impl.py:711: UserWarning: `tf.nn.rnn_cell.BasicLSTMCell` is deprecated and will be removed in a future version. This class is equivalent as `tf.keras.layers.LSTMCell`, and will be replaced by that in Tensorflow 2.0.\n",
      "  warnings.warn(\"`tf.nn.rnn_cell.BasicLSTMCell` is deprecated and will be \"\n",
      "C:\\Users\\Dominik\\anaconda3\\envs\\nnets\\lib\\site-packages\\tensorflow\\python\\keras\\engine\\base_layer_v1.py:1702: UserWarning: `layer.add_variable` is deprecated and will be removed in a future version. Please use `layer.add_weight` method instead.\n",
      "  warnings.warn('`layer.add_variable` is deprecated and '\n",
      "C:\\Users\\Dominik\\AppData\\Local\\Temp\\ipykernel_5160\\628077283.py:37: UserWarning: `tf.layers.dense` is deprecated and will be removed in a future version. Please use `tf.keras.layers.Dense` instead.\n",
      "  logits=tf.layers.dense(outputs[-1], n_classes)\n"
     ]
    },
    {
     "name": "stdout",
     "output_type": "stream",
     "text": [
      "Epoch #1 0.1178\n",
      "Epoch #2 0.1178\n",
      "Epoch #3 0.1178\n",
      "Epoch #4 0.1178\n",
      "Epoch #5 0.1178\n",
      "Epoch #6 0.1178\n",
      "Epoch #7 0.1178\n",
      "Epoch #8 0.1178\n",
      "Epoch #9 0.1178\n",
      "Epoch #10 0.1178\n",
      "Epoch #11 0.1178\n",
      "Epoch #12 0.1178\n",
      "Epoch #13 0.1178\n",
      "Epoch #14 0.1178\n",
      "Epoch #15 0.1178\n",
      "[0.1178, 0.1178, 0.1178, 0.1178, 0.1178, 0.1178, 0.1178, 0.1178, 0.1178, 0.1178, 0.1178, 0.1178, 0.1178, 0.1178, 0.1178]\n"
     ]
    }
   ],
   "source": [
    "import tensorflow.compat.v1 as tf\n",
    "tf.disable_eager_execution()\n",
    "from tensorflow.compat.v1.nn import static_rnn\n",
    "from tensorflow.compat.v1.nn.rnn_cell import BasicLSTMCell\n",
    "\n",
    "import input_data\n",
    "mnist=input_data.read_data_sets(\"mnist/\", one_hot=True)\n",
    "\n",
    "learning_rate=0.005\n",
    "training_epochs_count=15\n",
    "batch_size=150\n",
    "batches_count=int(mnist.train.num_examples/batch_size)\n",
    "display_step=1\n",
    "\n",
    "\n",
    "timesteps=2\n",
    "\n",
    "\n",
    "\n",
    "#each row has 28 columns whose values are simultaneously passed to LSTM\n",
    "n_input=28 # MNIST data input (img shape: 28*28)\n",
    "#the number of hidden states in the LSTM\n",
    "n_hidden=128\n",
    "n_classes=10\n",
    "\n",
    "x=tf.placeholder(\"float\", [None, timesteps, n_input])\n",
    "y=tf.placeholder(\"float\", [None, n_classes])\n",
    "\n",
    "#separate the rows separate rows\n",
    "unstacked=tf.unstack(x, timesteps, 1)\n",
    "\n",
    "#prepare the LSTM\n",
    "lstm_cell=BasicLSTMCell(n_hidden)\n",
    "#feed the rows iteratively to LSTM\n",
    "outputs, states=static_rnn(lstm_cell, unstacked, dtype=tf.float32)\n",
    "#take the last output (index -1) i.e. the output after the last row and use it for classification\n",
    "logits=tf.layers.dense(outputs[-1], n_classes)\n",
    "y_predicted=tf.nn.softmax(logits)\n",
    "\n",
    "cost=tf.reduce_mean(tf.nn.softmax_cross_entropy_with_logits(logits=logits, labels=y))\n",
    "optimizer=tf.train.AdamOptimizer(learning_rate=learning_rate).minimize(cost)\n",
    "\n",
    "correct_y_predicted=tf.equal(tf.argmax(y_predicted, 1), tf.argmax(y, 1))\n",
    "accuracy=tf.reduce_mean(tf.cast(correct_y_predicted, tf.float32))\n",
    "\n",
    "acc1 = []\n",
    "\n",
    "#with such a block we don't need to close the session later - it will be closed automatically\n",
    "with tf.Session() as session:\n",
    "    session.run(tf.global_variables_initializer())\n",
    "    for epoch in range(training_epochs_count):\n",
    "        for i in range(batches_count):\n",
    "            batch_x, batch_y = mnist.train.next_batch(batch_size)\n",
    "            batch_x = batch_x.reshape(batch_size, n_input, n_input)\n",
    "            session.run(optimizer, feed_dict={x:batch_x[:,:timesteps,:], y:batch_y})\n",
    "        if ((epoch+1)%display_step==0):\n",
    "            acc = session.run(accuracy, feed_dict={x: mnist.test.images.reshape(-1, n_input, n_input)[:,:timesteps,:], y: mnist.test.labels})\n",
    "            acc1.append(acc)\n",
    "            print(\"Epoch #\"+str(epoch+1)+\" \"+str(acc))\n",
    "\n",
    "print(acc1)"
   ]
  },
  {
   "cell_type": "markdown",
   "metadata": {
    "collapsed": true
   },
   "source": [
    "**Tasks**\n",
    "\n",
    "1. Study and run the code below.\n",
    "2. Readjust the parameters in order to make the model obtain acuracy above 0.99 on the test set.\n",
    "3. Draw a plot that shows the relation between the number of rows given to the network and its final accuracy on the test set.\n",
    "4. What happens if we use gradient descent instead of Adam?\n",
    "\n",
    "2 -> 15 epochs, 150 batch size and 0.005 lr.\n",
    "\n",
    "\n",
    "\n",
    "NOTE: when you want to restart the code, first shutdown the kernel e.g. by choosing Kernel in the menu above and then Restart & Clear Output."
   ]
  },
  {
   "cell_type": "code",
   "execution_count": 2,
   "metadata": {},
   "outputs": [
    {
     "data": {
      "image/png": "[encoded data removed]",
      "text/plain": [
       "<Figure size 640x480 with 1 Axes>"
      ]
     },
     "metadata": {},
     "output_type": "display_data"
    }
   ],
   "source": [
    "acc2 = [0.1178, 0.1178, 0.1178, 0.1178, 0.1178, 0.1178, 0.1178, 0.1178, 0.1178, 0.1178, 0.1178, 0.1178, 0.1178, 0.1178, 0.1178]\n",
    "acc7 = [0.5923, 0.6105, 0.6168, 0.6283, 0.6344, 0.6305, 0.6391, 0.6389, 0.639, 0.64, 0.6386, 0.6405, 0.6446, 0.6402, 0.6409]\n",
    "acc14 = [0.913, 0.9326, 0.9328, 0.9366, 0.9368, 0.9435, 0.9435, 0.9419, 0.9397, 0.9371, 0.9459, 0.9421, 0.9405, 0.9431, 0.9422]\n",
    "acc28 = [0.9667, 0.9754, 0.9703, 0.9814, 0.9866, 0.9845, 0.9858, 0.9852, 0.9854, 0.9856, 0.9871, 0.9859, 0.9885, 0.9886, 0.9861]\n",
    "\n",
    "\n",
    "import matplotlib.pyplot as plt\n",
    "\n",
    "\n",
    "\n",
    "plt.plot(range(1,16), acc2, 'r', label='2') \n",
    "plt.plot(range(1,16), acc7, 'b', label='7') \n",
    "plt.plot(range(1,16), acc14, 'g', label='14')\n",
    "plt.plot(range(1,16), acc28, 'y', label='28')\n",
    "plt.xlabel(\"Epoch\")\n",
    "plt.ylabel(\"Acc\")\n",
    "plt.title(\"Timestep dependency\")\n",
    "plt.legend()\n",
    "plt.show()"
   ]
  },
  {
   "cell_type": "code",
   "execution_count": 1,
   "metadata": {},
   "outputs": [
    {
     "name": "stdout",
     "output_type": "stream",
     "text": [
      "Extracting mnist/train-images-idx3-ubyte.gz\n",
      "Extracting mnist/train-labels-idx1-ubyte.gz\n",
      "Extracting mnist/t10k-images-idx3-ubyte.gz\n",
      "Extracting mnist/t10k-labels-idx1-ubyte.gz\n",
      "WARNING:tensorflow:From C:\\Users\\Dominik\\AppData\\Local\\Temp\\ipykernel_17440\\919231677.py:32: static_rnn (from tensorflow.python.ops.rnn) is deprecated and will be removed in a future version.\n",
      "Instructions for updating:\n",
      "Please use `keras.layers.RNN(cell, unroll=True)`, which is equivalent to this API\n",
      "WARNING:tensorflow:From C:\\Users\\Dominik\\anaconda3\\envs\\nnets\\lib\\site-packages\\tensorflow\\python\\keras\\layers\\legacy_rnn\\rnn_cell_impl.py:762: calling Zeros.__init__ (from tensorflow.python.ops.init_ops) with dtype is deprecated and will be removed in a future version.\n",
      "Instructions for updating:\n",
      "Call initializer instance with the dtype argument instead of passing it to the constructor\n"
     ]
    },
    {
     "name": "stderr",
     "output_type": "stream",
     "text": [
      "C:\\Users\\Dominik\\anaconda3\\envs\\nnets\\lib\\site-packages\\tensorflow\\python\\keras\\layers\\legacy_rnn\\rnn_cell_impl.py:711: UserWarning: `tf.nn.rnn_cell.BasicLSTMCell` is deprecated and will be removed in a future version. This class is equivalent as `tf.keras.layers.LSTMCell`, and will be replaced by that in Tensorflow 2.0.\n",
      "  warnings.warn(\"`tf.nn.rnn_cell.BasicLSTMCell` is deprecated and will be \"\n",
      "C:\\Users\\Dominik\\anaconda3\\envs\\nnets\\lib\\site-packages\\tensorflow\\python\\keras\\engine\\base_layer_v1.py:1702: UserWarning: `layer.add_variable` is deprecated and will be removed in a future version. Please use `layer.add_weight` method instead.\n",
      "  warnings.warn('`layer.add_variable` is deprecated and '\n"
     ]
    },
    {
     "name": "stdout",
     "output_type": "stream",
     "text": [
      "WARNING:tensorflow:From C:\\Users\\Dominik\\anaconda3\\envs\\nnets\\lib\\site-packages\\tensorflow\\python\\util\\dispatch.py:1176: softmax_cross_entropy_with_logits (from tensorflow.python.ops.nn_ops) is deprecated and will be removed in a future version.\n",
      "Instructions for updating:\n",
      "\n",
      "Future major versions of TensorFlow will allow gradients to flow\n",
      "into the labels input on backprop by default.\n",
      "\n",
      "See `tf.nn.softmax_cross_entropy_with_logits_v2`.\n",
      "\n"
     ]
    },
    {
     "name": "stderr",
     "output_type": "stream",
     "text": [
      "C:\\Users\\Dominik\\AppData\\Local\\Temp\\ipykernel_17440\\919231677.py:34: UserWarning: `tf.layers.dense` is deprecated and will be removed in a future version. Please use `tf.keras.layers.Dense` instead.\n",
      "  logits=tf.layers.dense(outputs[-1], n_classes)\n"
     ]
    },
    {
     "name": "stdout",
     "output_type": "stream",
     "text": [
      "Epoch #1 0.3097\n",
      "Epoch #2 0.3483\n",
      "Epoch #3 0.3296\n",
      "Epoch #4 0.3964\n",
      "Epoch #5 0.4657\n",
      "Epoch #6 0.53\n",
      "Epoch #7 0.5892\n",
      "Epoch #8 0.6354\n",
      "Epoch #9 0.6743\n",
      "Epoch #10 0.707\n",
      "Epoch #11 0.7355\n",
      "Epoch #12 0.7598\n",
      "Epoch #13 0.7839\n",
      "Epoch #14 0.7971\n",
      "Epoch #15 0.8361\n"
     ]
    }
   ],
   "source": [
    "import tensorflow.compat.v1 as tf\n",
    "tf.disable_eager_execution()\n",
    "from tensorflow.compat.v1.nn import static_rnn\n",
    "from tensorflow.compat.v1.nn.rnn_cell import BasicLSTMCell\n",
    "\n",
    "import input_data\n",
    "mnist=input_data.read_data_sets(\"mnist/\", one_hot=True)\n",
    "\n",
    "learning_rate=0.005\n",
    "training_epochs_count=15\n",
    "batch_size=150\n",
    "batches_count=int(mnist.train.num_examples/batch_size)\n",
    "display_step=1\n",
    "\n",
    "#we will feed a row at a time to the LSTM and there are 28 rows per image\n",
    "timesteps=28\n",
    "#each row has 28 columns whose values are simultaneously passed to LSTM\n",
    "n_input=28 # MNIST data input (img shape: 28*28)\n",
    "#the number of hidden states in the LSTM\n",
    "n_hidden=128\n",
    "n_classes=10\n",
    "\n",
    "x=tf.placeholder(\"float\", [None, timesteps, n_input])\n",
    "y=tf.placeholder(\"float\", [None, n_classes])\n",
    "\n",
    "#separate the rows separate rows\n",
    "unstacked=tf.unstack(x, timesteps, 1)\n",
    "\n",
    "#prepare the LSTM\n",
    "lstm_cell=BasicLSTMCell(n_hidden)\n",
    "#feed the rows iteratively to LSTM\n",
    "outputs, states=static_rnn(lstm_cell, unstacked, dtype=tf.float32)\n",
    "#take the last output (index -1) i.e. the output after the last row and use it for classification\n",
    "logits=tf.layers.dense(outputs[-1], n_classes)\n",
    "y_predicted=tf.nn.softmax(logits)\n",
    "\n",
    "cost=tf.reduce_mean(tf.nn.softmax_cross_entropy_with_logits(logits=logits, labels=y))\n",
    "optimizer=tf.train.GradientDescentOptimizer(learning_rate=learning_rate).minimize(cost)\n",
    "\n",
    "correct_y_predicted=tf.equal(tf.argmax(y_predicted, 1), tf.argmax(y, 1))\n",
    "accuracy=tf.reduce_mean(tf.cast(correct_y_predicted, tf.float32))\n",
    "\n",
    "acc28 = []\n",
    "\n",
    "#with such a block we don't need to close the session later - it will be closed automatically\n",
    "with tf.Session() as session:\n",
    "    session.run(tf.global_variables_initializer())\n",
    "    for epoch in range(training_epochs_count):\n",
    "        for i in range(batches_count):\n",
    "            batch_x, batch_y = mnist.train.next_batch(batch_size)\n",
    "            session.run(optimizer, feed_dict={x:batch_x.reshape((-1, timesteps, n_input)), y:batch_y})\n",
    "        if ((epoch+1)%display_step==0):\n",
    "            acc = session.run(accuracy, feed_dict={x: mnist.test.images.reshape((-1, timesteps, n_input)), y: mnist.test.labels})\n",
    "            acc28.append(acc)\n",
    "            print(\"Epoch #\"+str(epoch+1)+\" \"+str(acc))\n"
   ]
  },
  {
   "cell_type": "code",
   "execution_count": 2,
   "metadata": {},
   "outputs": [
    {
     "name": "stdout",
     "output_type": "stream",
     "text": [
      "[0.3097, 0.3483, 0.3296, 0.3964, 0.4657, 0.53, 0.5892, 0.6354, 0.6743, 0.707, 0.7355, 0.7598, 0.7839, 0.7971, 0.8361]\n"
     ]
    }
   ],
   "source": [
    "print(acc28)"
   ]
  },
  {
   "cell_type": "code",
   "execution_count": 6,
   "metadata": {},
   "outputs": [
    {
     "data": {
      "image/png": "[encoded data removed]",
      "text/plain": [
       "<Figure size 640x480 with 1 Axes>"
      ]
     },
     "metadata": {},
     "output_type": "display_data"
    }
   ],
   "source": [
    "acc28Adam = [0.9667, 0.9754, 0.9703, 0.9814, 0.9866, 0.9845, 0.9858, 0.9852, 0.9854, 0.9856, 0.9871, 0.9859, 0.9885, 0.9886, 0.9861]\n",
    "acc28Grad = [0.3097, 0.3483, 0.3296, 0.3964, 0.4657, 0.53, 0.5892, 0.6354, 0.6743, 0.707, 0.7355, 0.7598, 0.7839, 0.7971, 0.8361]\n",
    "\n",
    "\n",
    "import matplotlib.pyplot as plt\n",
    "\n",
    "plt.plot(range(1,16), acc28Adam, 'r', label='ADAM') \n",
    "plt.plot(range(1,16), acc28Grad, 'b', label='GRAD')\n",
    "plt.xlabel(\"Epoch\")\n",
    "plt.ylabel(\"Acc\")\n",
    "plt.title(\"Optimization method\")\n",
    "plt.legend()\n",
    "plt.show()"
   ]
  }
 ],
 "metadata": {
  "kernelspec": {
   "display_name": "Python 3 (ipykernel)",
   "language": "python",
   "name": "python3"
  },
  "language_info": {
   "codemirror_mode": {
    "name": "ipython",
    "version": 3
   },
   "file_extension": ".py",
   "mimetype": "text/x-python",
   "name": "python",
   "nbconvert_exporter": "python",
   "pygments_lexer": "ipython3",
   "version": "3.9.15"
  }
 },
 "nbformat": 4,
 "nbformat_minor": 2
}
